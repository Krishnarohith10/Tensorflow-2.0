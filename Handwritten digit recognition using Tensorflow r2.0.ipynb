{
 "cells": [
  {
   "cell_type": "code",
   "execution_count": 1,
   "metadata": {},
   "outputs": [],
   "source": [
    "import tensorflow as tf"
   ]
  },
  {
   "cell_type": "code",
   "execution_count": 2,
   "metadata": {},
   "outputs": [],
   "source": [
    "(x_train, y_train), (x_test, y_test) = tf.keras.datasets.mnist.load_data()\n",
    "\n",
    "x_train, y_train = tf.cast(x_train, tf.float32), tf.cast(y_train, tf.int32)\n",
    "x_test, y_test = tf.cast(x_test, tf.float32), tf.cast(y_test, tf.int32)\n",
    "\n",
    "x_train, x_test = x_train / 255.0, x_test / 255.0\n",
    "x_train, x_test = x_train[..., tf.newaxis], x_test[..., tf.newaxis]"
   ]
  },
  {
   "cell_type": "code",
   "execution_count": 3,
   "metadata": {},
   "outputs": [],
   "source": [
    "train_ds = tf.data.Dataset.from_tensor_slices((x_train, y_train)).shuffle(10000).batch(32)\n",
    "\n",
    "test_ds = tf.data.Dataset.from_tensor_slices((x_test, y_test)).batch(32)"
   ]
  },
  {
   "cell_type": "code",
   "execution_count": 4,
   "metadata": {},
   "outputs": [],
   "source": [
    "w_1 = tf.compat.v1.get_variable('w_1', shape = (3, 3, 1, 32), dtype = tf.float32, initializer = tf.initializers.glorot_uniform)"
   ]
  },
  {
   "cell_type": "code",
   "execution_count": 5,
   "metadata": {},
   "outputs": [],
   "source": [
    "def MyModel(x):\n",
    "    with tf.compat.v1.variable_scope(\"MyModel\", reuse = tf.compat.v1.AUTO_REUSE):\n",
    "        c_1 = tf.compat.v2.nn.conv2d(x, filters = w_1, strides = (1, 1), padding = \"VALID\")\n",
    "        a_1 = tf.compat.v2.nn.relu(c_1)\n",
    "        f_1 = tf.compat.v1.layers.flatten(a_1)\n",
    "        d_1 = tf.compat.v1.layers.dense(f_1, units = 128, activation = tf.compat.v2.nn.relu)\n",
    "        d_2 = tf.compat.v1.layers.dense(d_1, units = 10, activation = tf.compat.v2.nn.softmax)\n",
    "    return d_2"
   ]
  },
  {
   "cell_type": "code",
   "execution_count": 6,
   "metadata": {},
   "outputs": [],
   "source": [
    "loss_object = tf.compat.v2.losses.SparseCategoricalCrossentropy()\n",
    "\n",
    "optimizer = tf.compat.v2.optimizers.Adam()"
   ]
  },
  {
   "cell_type": "code",
   "execution_count": 7,
   "metadata": {},
   "outputs": [],
   "source": [
    "train_loss = tf.compat.v2.metrics.Mean(name='train_loss')\n",
    "train_accuracy = tf.compat.v2.metrics.SparseCategoricalAccuracy(name='train_accuracy')\n",
    "\n",
    "test_loss = tf.compat.v2.metrics.Mean(name='test_loss')\n",
    "test_accuracy = tf.compat.v2.metrics.SparseCategoricalAccuracy(name='test_accuracy')"
   ]
  },
  {
   "cell_type": "code",
   "execution_count": 8,
   "metadata": {},
   "outputs": [],
   "source": [
    "def train_step(images, labels):\n",
    "    with tf.GradientTape() as tape:\n",
    "        predictions = MyModel(images)\n",
    "        loss = loss_object(labels, predictions)\n",
    "    gradient = tape.gradient(loss, tf.compat.v1.trainable_variables())\n",
    "    optimizer.apply_gradients(zip(gradient, tf.compat.v1.trainable_variables()))\n",
    "    \n",
    "    train_loss(loss)\n",
    "    train_accuracy(labels, predictions)"
   ]
  },
  {
   "cell_type": "code",
   "execution_count": 9,
   "metadata": {},
   "outputs": [],
   "source": [
    "def test_step(images, labels):\n",
    "    predictions = MyModel(images)\n",
    "    loss = loss_object(labels, predictions)\n",
    "    \n",
    "    test_loss(loss)\n",
    "    test_accuracy(labels, predictions)"
   ]
  },
  {
   "cell_type": "code",
   "execution_count": 10,
   "metadata": {},
   "outputs": [
    {
     "name": "stderr",
     "output_type": "stream",
     "text": [
      "WARNING: Logging before flag parsing goes to stderr.\n",
      "W1117 10:41:07.203452 13376 deprecation.py:323] From <ipython-input-5-85ae7a69ee1c>:5: flatten (from tensorflow.python.layers.core) is deprecated and will be removed in a future version.\n",
      "Instructions for updating:\n",
      "Use keras.layers.flatten instead.\n",
      "W1117 10:41:07.216453 13376 deprecation.py:323] From C:\\Users\\krishna rohit\\Anaconda3\\envs\\machine-learning\\lib\\site-packages\\tensorflow_core\\python\\layers\\core.py:332: Layer.apply (from tensorflow.python.keras.engine.base_layer) is deprecated and will be removed in a future version.\n",
      "Instructions for updating:\n",
      "Please use `layer.__call__` method instead.\n",
      "W1117 10:41:07.226459 13376 deprecation.py:323] From <ipython-input-5-85ae7a69ee1c>:6: dense (from tensorflow.python.layers.core) is deprecated and will be removed in a future version.\n",
      "Instructions for updating:\n",
      "Use keras.layers.Dense instead.\n"
     ]
    },
    {
     "name": "stdout",
     "output_type": "stream",
     "text": [
      "Epoch 1->Train Loss: 2.304, Train Accuracy: 10.085; Test Loss: 2.305, Test Accuracy: 10.190\n",
      "Epoch 2->Train Loss: 2.304, Train Accuracy: 10.040; Test Loss: 2.304, Test Accuracy: 10.670\n",
      "Epoch 3->Train Loss: 2.305, Train Accuracy: 10.077; Test Loss: 2.305, Test Accuracy: 9.360\n"
     ]
    }
   ],
   "source": [
    "EPOCHS = 3\n",
    "\n",
    "for epoch in range(EPOCHS):\n",
    "    \n",
    "    for images, labels in train_ds:\n",
    "        train_step(images, labels)\n",
    "        \n",
    "    for images, labels in test_ds:\n",
    "        test_step(images, labels)\n",
    "        \n",
    "    tp = 'Epoch {:d}->Train Loss: {:.3f}, Train Accuracy: {:.3f}; Test Loss: {:.3f}, Test Accuracy: {:.3f}'\n",
    "\n",
    "    print(tp.format(epoch+1, train_loss.result(), train_accuracy.result()*100, test_loss.result(), test_accuracy.result()*100))\n",
    "    \n",
    "    # Reset the metrics for the next epoch\n",
    "    train_loss.reset_states()\n",
    "    train_accuracy.reset_states()\n",
    "    \n",
    "    test_loss.reset_states()\n",
    "    test_accuracy.reset_states()"
   ]
  },
  {
   "cell_type": "code",
   "execution_count": null,
   "metadata": {},
   "outputs": [],
   "source": []
  }
 ],
 "metadata": {
  "kernelspec": {
   "display_name": "Python 3",
   "language": "python",
   "name": "python3"
  },
  "language_info": {
   "codemirror_mode": {
    "name": "ipython",
    "version": 3
   },
   "file_extension": ".py",
   "mimetype": "text/x-python",
   "name": "python",
   "nbconvert_exporter": "python",
   "pygments_lexer": "ipython3",
   "version": "3.6.8"
  }
 },
 "nbformat": 4,
 "nbformat_minor": 2
}
